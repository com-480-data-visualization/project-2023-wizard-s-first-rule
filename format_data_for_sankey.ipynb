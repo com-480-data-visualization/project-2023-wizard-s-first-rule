{
 "cells": [
  {
   "cell_type": "code",
   "execution_count": null,
   "metadata": {},
   "outputs": [],
   "source": [
    "import pandas as pd\n",
    "import numpy as np"
   ]
  },
  {
   "cell_type": "code",
   "execution_count": null,
   "metadata": {},
   "outputs": [],
   "source": [
    "raw = pd.read_csv('./datasets/Video_Games_Sales_as_at_22_Dec_2016.csv')"
   ]
  },
  {
   "cell_type": "code",
   "execution_count": null,
   "metadata": {},
   "outputs": [],
   "source": [
    "raw.sample(2)"
   ]
  },
  {
   "cell_type": "code",
   "execution_count": null,
   "metadata": {},
   "outputs": [],
   "source": [
    "raw.describe()"
   ]
  },
  {
   "cell_type": "code",
   "execution_count": null,
   "metadata": {},
   "outputs": [],
   "source": [
    "raw[['NA_Sales', 'EU_Sales', 'JP_Sales', 'Other_Sales']].sum(axis=1) == raw.Global_Sales"
   ]
  },
  {
   "cell_type": "code",
   "execution_count": null,
   "metadata": {},
   "outputs": [],
   "source": [
    "raw[['NA_Sales', 'EU_Sales', 'JP_Sales', 'Other_Sales']].sum(axis=1), raw.Global_Sales"
   ]
  },
  {
   "cell_type": "code",
   "execution_count": null,
   "metadata": {},
   "outputs": [],
   "source": [
    "raw['All_Sales'] = raw[['NA_Sales', 'EU_Sales', 'JP_Sales', 'Other_Sales']].sum(axis=1)"
   ]
  },
  {
   "cell_type": "code",
   "execution_count": null,
   "metadata": {},
   "outputs": [],
   "source": [
    "raw.Platform.fillna('unkPlatform', inplace=True)\n",
    "raw.Genre.fillna('unkGenre', inplace=True)"
   ]
  },
  {
   "cell_type": "code",
   "execution_count": null,
   "metadata": {},
   "outputs": [],
   "source": [
    "platforms = raw.Platform.unique().tolist()\n",
    "regions = ['North America', 'European Union', 'Japan', 'Other']\n",
    "genres = raw.Genre.unique().tolist()\n",
    "nodes_ls = platforms + regions + genres"
   ]
  },
  {
   "cell_type": "code",
   "execution_count": null,
   "metadata": {},
   "outputs": [],
   "source": [
    "nodes = []\n",
    "for node in platforms:\n",
    "    nodes.append({'name': node , 'category': 'platform'})\n",
    "for node in regions:\n",
    "    nodes.append({'name': node , 'category': 'region'})\n",
    "for node in genres:\n",
    "    nodes.append({'name': node , 'category': 'genre'})"
   ]
  },
  {
   "cell_type": "code",
   "execution_count": null,
   "metadata": {},
   "outputs": [],
   "source": [
    "map_region = {regions[0]: 'NA_Sales',\n",
    "              regions[1]: 'EU_Sales',\n",
    "              regions[2]: 'JP_Sales',\n",
    "              regions[3]: 'Other_Sales'}"
   ]
  },
  {
   "cell_type": "code",
   "execution_count": null,
   "metadata": {},
   "outputs": [],
   "source": [
    "links = []\n",
    "for r in regions:\n",
    "    for g in genres:\n",
    "        links.append({'source': r, 'target': g, 'value': str(raw[map_region[r]][raw.Genre == g].sum())})\n",
    "for g in genres:\n",
    "    for p in platforms:\n",
    "        links.append({'source': g, 'target': p, 'value': str(raw[(raw.Genre==g) & (raw.Platform==p)].All_Sales.sum())})\n"
   ]
  },
  {
   "cell_type": "code",
   "execution_count": null,
   "metadata": {},
   "outputs": [],
   "source": [
    "data = {'links': links, 'nodes': nodes}"
   ]
  },
  {
   "cell_type": "code",
   "execution_count": null,
   "metadata": {},
   "outputs": [],
   "source": [
    "data"
   ]
  },
  {
   "cell_type": "code",
   "execution_count": null,
   "metadata": {},
   "outputs": [],
   "source": [
    "import json\n",
    "with open('./datasets/sankey.json', 'w') as f:\n",
    "    json.dump(data, f)"
   ]
  },
  {
   "cell_type": "code",
   "execution_count": null,
   "metadata": {},
   "outputs": [],
   "source": [
    "out = ''\n",
    "for link in links:\n",
    "    if float(link[\"value\"]) > 0:\n",
    "        out += f'{link[\"source\"]} [{link[\"value\"]}] {link[\"target\"]}\\n'"
   ]
  },
  {
   "cell_type": "code",
   "execution_count": null,
   "metadata": {},
   "outputs": [],
   "source": [
    "print(out)"
   ]
  },
  {
   "cell_type": "code",
   "execution_count": null,
   "metadata": {},
   "outputs": [],
   "source": [
    "nodes"
   ]
  },
  {
   "cell_type": "code",
   "execution_count": null,
   "metadata": {},
   "outputs": [],
   "source": [
    "platforms"
   ]
  },
  {
   "cell_type": "code",
   "execution_count": null,
   "metadata": {},
   "outputs": [],
   "source": [
    "raw[raw.Platform=='PCFX'].sample()"
   ]
  },
  {
   "cell_type": "code",
   "execution_count": null,
   "metadata": {},
   "outputs": [],
   "source": [
    "hover= [\n",
    "    {'name': 'Wii', 'wikipedia': 'https://en.wikipedia.org/wiki/Wii', 'image': 'Wii-Console.png', 'image_link': 'https://en.wikipedia.org/wiki/Wii#/media/File:Wii-Console.png'},\n",
    "    {'name': 'NES', 'wikipedia': 'https://en.wikipedia.org/wiki/Nintendo_Entertainment_System', 'image': 'NES-Console-Set.jpg', 'image_link' : 'https://en.wikipedia.org/wiki/Nintendo_Entertainment_System#/media/File:NES-Console-Set.jpg'},\n",
    "    {'name': 'GB', 'wikipedia': 'https://en.wikipedia.org/wiki/Game_Boy', 'image': 'Game-Boy-FL.jpg', 'image_link' : 'https://en.wikipedia.org/wiki/Game_Boy#/media/File:Game-Boy-FL.jpg'},\n",
    "    {'name': 'DS', 'wikipedia': 'https://en.wikipedia.org/wiki/Nintendo_DS', 'image': 'Nintendo-DS-Fat-Blue.jpg', 'image_link' : 'https://en.wikipedia.org/wiki/Nintendo_DS#/media/File:Nintendo-DS-Fat-Blue.jpg'},\n",
    "    {'name': 'X360', 'wikipedia': 'https://en.wikipedia.org/wiki/Xbox_360', 'image': 'Xbox-360-Pro-wController.jpg', 'image_link' : 'https://en.wikipedia.org/wiki/Xbox_360#/media/File:Xbox-360-Pro-wController.jpg'},\n",
    "    {'name': 'PS3', 'wikipedia': 'https://en.wikipedia.org/wiki/PlayStation_3', 'image': 'Sony-PlayStation-3-CECHA01-wController-L.jpg', 'image_link' : 'https://en.wikipedia.org/wiki/PlayStation_3#/media/File:Sony-PlayStation-3-CECHA01-wController-L.jpg'},\n",
    "    {'name': 'PS2', 'wikipedia': 'https://en.wikipedia.org/wiki/PlayStation_2', 'image': 'PS2-Versions.jpg', 'image_link' : 'https://en.wikipedia.org/wiki/PlayStation_2#/media/File:PS2-Versions.jpg'},\n",
    "    {'name': 'SNES', 'wikipedia': 'https://en.wikipedia.org/wiki/Super_Nintendo_Entertainment_System', 'image': 'Nintendo-Super-Famicom-Set-FL.jpg', 'image_link' : 'https://en.wikipedia.org/wiki/Super_Nintendo_Entertainment_System#/media/File:Nintendo-Super-Famicom-Set-FL.jpg'},\n",
    "    {'name': 'GBA', 'wikipedia': 'https://en.wikipedia.org/wiki/Game_Boy_Advance', 'image': 'Nintendo-Game-Boy-Advance-Purple-FL.jpg', 'image_link' : 'https://en.wikipedia.org/wiki/Game_Boy_Advance#/media/File:Nintendo-Game-Boy-Advance-Purple-FL.jpg'},\n",
    "    {'name': 'PS4', 'wikipedia': 'https://en.wikipedia.org/wiki/PlayStation_4', 'image': 'Sony-PlayStation-4-PS4-wDualShock-4.jpg', 'image_link' : 'https://en.wikipedia.org/wiki/PlayStation_4#/media/File:Sony-PlayStation-4-PS4-wDualShock-4.jpg'},\n",
    "    {'name': '3DS', 'wikipedia': 'https://en.wikipedia.org/wiki/Nintendo_3DS','image': 'Nintendo-3DS-AquaOpen.jpg', 'image_link' : 'https://en.wikipedia.org/wiki/Nintendo_3DS#/media/File:Nintendo-3DS-AquaOpen.jpg'},\n",
    "    {'name': 'N64', 'wikipedia': 'https://en.wikipedia.org/wiki/Nintendo_64', 'image': 'N64-Console-Set.jpg', 'image_link' : 'https://en.wikipedia.org/wiki/Nintendo_64#/media/File:N64-Console-Set.jpg'},\n",
    "    {'name': 'PS', 'wikipedia': 'https://en.wikipedia.org/wiki/PlayStation_(console)', 'image': 'PlayStation-SCPH-1000-with-Controller.jpg', 'image_link' : 'https://en.wikipedia.org/wiki/PlayStation_(console)#/media/File:PlayStation-SCPH-1000-with-Controller.jpg'},\n",
    "    {'name': 'XB', 'wikipedia': 'https://en.wikipedia.org/wiki/Xbox_(console)', 'image': 'Xbox-Console-wDuke-L.jpg', 'image_link' : 'https://en.wikipedia.org/wiki/Xbox_(console)#/media/File:Xbox-Console-wDuke-L.jpg'},\n",
    "    {'name': 'PC', 'wikipedia': 'https://en.wikipedia.org/wiki/Personal_computer', 'image': 'Crystal_Project_computer.png', 'image_link' : 'https://en.wikipedia.org/wiki/Personal_computer#/media/File:Crystal_Project_computer.png'},\n",
    "    {'name': '2600', 'wikipedia': 'https://en.wikipedia.org/wiki/Atari_2600', 'image': 'Atari-2600-Wood-4Sw-Set.png', 'image_link' : 'https://en.wikipedia.org/wiki/Atari_2600#/media/File:Atari-2600-Wood-4Sw-Set.png'},\n",
    "    {'name': 'PSP', 'wikipedia': 'https://en.wikipedia.org/wiki/PlayStation_Portable', 'image': 'Psp-1000.jpg', 'image_link' : 'https://en.wikipedia.org/wiki/PlayStation_Portable#/media/File:Psp-1000.jpg'},\n",
    "    {'name': 'XOne', 'wikipedia': 'https://en.wikipedia.org/wiki/Xbox_One', 'image': 'Microsoft-Xbox-One-S-Console-wController-L.jpg', 'image_link' : 'https://en.wikipedia.org/wiki/Xbox_One#/media/File:Microsoft-Xbox-One-S-Console-wController-L.jpg'},\n",
    "    {'name': 'WiiU', 'wikipedia': 'https://en.wikipedia.org/wiki/Wii_U', 'image': 'Wii_U_Console_and_Gamepad.png', 'image_link' : 'https://en.wikipedia.org/wiki/Wii_U#/media/File:Wii_U_Console_and_Gamepad.png'},\n",
    "    {'name': 'GC', 'wikipedia': 'https://en.wikipedia.org/wiki/GameCube', 'image': 'GameCube-Console-Set.png', 'image_link' : 'https://en.wikipedia.org/wiki/GameCube#/media/File:GameCube-Console-Set.png'},\n",
    "    {'name': 'GEN', 'wikipedia': 'https://en.wikipedia.org/wiki/Sega_Genesis', 'image': 'Sega-Mega-Drive-JP-Mk1-Console-Set.jpg', 'image_link' : 'https://en.wikipedia.org/wiki/Sega_Genesis#/media/File:Sega-Mega-Drive-JP-Mk1-Console-Set.jpg'},\n",
    "    {'name': 'DC', 'wikipedia': 'https://en.wikipedia.org/wiki/Dreamcast', 'image': 'Dreamcast-Console-Set.png', 'image_link' : 'https://en.wikipedia.org/wiki/Dreamcast#/media/File:Dreamcast-Console-Set.png'},\n",
    "    {'name': 'PSV', 'wikipedia': 'https://en.wikipedia.org/wiki/PlayStation_Vita', 'image': 'PlayStation-Vita-1101-FL.jpg', 'image_link' : 'https://en.wikipedia.org/wiki/PlayStation_Vita#/media/File:PlayStation-Vita-1101-FL.jpg'},\n",
    "    {'name': 'SAT', 'wikipedia': 'https://en.wikipedia.org/wiki/Sega_Saturn', 'image': 'Sega-Saturn-Console-Set-Mk1.png', 'image_link' : 'https://en.wikipedia.org/wiki/Sega_Saturn#/media/File:Sega-Saturn-Console-Set-Mk1.png'},\n",
    "    {'name': 'SCD', 'wikipedia': 'https://en.wikipedia.org/wiki/Sega_CD', 'image': 'Sega-CD-Model1-Set.jpg', 'image_link' : 'https://en.wikipedia.org/wiki/Sega_CD#/media/File:Sega-CD-Model1-Set.jpg'},\n",
    "    {'name': 'WS', 'wikipedia': 'https://en.wikipedia.org/wiki/WonderSwan', 'image': 'WonderSwan-Black-Left.jpg', 'image_link' : 'https://en.wikipedia.org/wiki/WonderSwan#/media/File:WonderSwan-Black-Left.jpg'},\n",
    "    {'name': 'NG', 'wikipedia': 'https://en.wikipedia.org/wiki/Neo_Geo', 'image': 'Neo-Geo-CD-TopLoader-wController-FL.jpg', 'image_link' : 'https://en.wikipedia.org/wiki/Neo_Geo#/media/File:Neo-Geo-CD-TopLoader-wController-FL.jpg'},\n",
    "    {'name': 'TG16', 'wikipedia': 'https://en.wikipedia.org/wiki/TurboGrafx-16', 'image': 'TurboGrafx16-Console-Set.jpg', 'image_link' : 'https://en.wikipedia.org/wiki/TurboGrafx-16#/media/File:TurboGrafx16-Console-Set.jpg'},\n",
    "    {'name': '3DO', 'wikipedia': 'https://en.wikipedia.org/wiki/3DO_Interactive_Multiplayer', 'image': '3DO-FZ1-Console-Set.jpg', 'image_link' : 'https://en.wikipedia.org/wiki/3DO_Interactive_Multiplayer#/media/File:3DO-FZ1-Console-Set.jpg'},\n",
    "    {'name': 'GG', 'wikipedia': 'https://en.wikipedia.org/wiki/Game_Gear', 'image': 'Sega-Game-Gear-WB.png', 'image_link' : 'https://en.wikipedia.org/wiki/Game_Gear#/media/File:Sega-Game-Gear-WB.png'},\n",
    "    {'name': 'PCFX', 'wikipedia': 'https://en.wikipedia.org/wiki/PC-FX', 'image': 'PC-FX-Console-Set.jpg', 'image_link' : 'https://en.wikipedia.org/wiki/PC-FX#/media/File:PC-FX-Console-Set.jpg'}\n",
    "]"
   ]
  },
  {
   "cell_type": "code",
   "execution_count": null,
   "metadata": {},
   "outputs": [],
   "source": [
    "with open('./datasets/sankey_links.json', 'w') as f:\n",
    "    json.dump(hover, f)"
   ]
  },
  {
   "cell_type": "code",
   "execution_count": null,
   "metadata": {},
   "outputs": [],
   "source": [
    "for h in hover:\n",
    "    print(h['image'])"
   ]
  },
  {
   "cell_type": "code",
   "execution_count": null,
   "metadata": {},
   "outputs": [],
   "source": [
    "images_names = [\\\n",
    "'3DO-FZ1-Console-Set.jpg',\n",
    "'Atari-2600-Wood-4Sw-Set.png',\n",
    "'Crystal_Project_computer.png',\n",
    "'Dreamcast-Console-Set.png',\n",
    "'Game-Boy-FL.jpg',\n",
    "'GameCube-Console-Set.png',\n",
    "'Microsoft-Xbox-One-S-Console-wController-L.jpg',\n",
    "'N64-Console-Set.jpg',\n",
    "'Neo-Geo-CD-TopLoader-wController-FL.jpg',\n",
    "'NES-Console-Set.jpg',\n",
    "'Nintendo-3DS-AquaOpen.jpg',\n",
    "'Nintendo-DS-Fat-Blue.jpg',\n",
    "'Nintendo-Game-Boy-Advance-Purple-FL.jpg',\n",
    "'Nintendo-Super-Famicom-Set-FL.jpg',\n",
    "'PC-FX-Console-Set.jpg',\n",
    "'PlayStation-SCPH-1000-with-Controller.jpg',\n",
    "'PlayStation-Vita-1101-FL.jpg',\n",
    "'PS2-Versions.jpg',\n",
    "'Psp-1000.jpg',\n",
    "'Sega-CD-Model1-Set.jpg',\n",
    "'Sega-Game-Gear-WB.png',\n",
    "'Sega-Mega-Drive-JP-Mk1-Console-Set.jpg',\n",
    "'Sega-Saturn-Console-Set-Mk1.png',\n",
    "'Sony-PlayStation-3-CECHA01-wController-L.jpg',\n",
    "'Sony-PlayStation-4-PS4-wDualShock-4.jpg',\n",
    "'TurboGrafx16-Console-Set.jpg',\n",
    "'Wii-Console.png',\n",
    "'Wii_U_Console_and_Gamepad.png',\n",
    "'WonderSwan-Black-Left.jpg',\n",
    "'Xbox-360-Pro-wController.jpg',\n",
    "'Xbox-Console-wDuke-L.jpg'\n",
    "]"
   ]
  },
  {
   "cell_type": "code",
   "execution_count": null,
   "metadata": {},
   "outputs": [],
   "source": [
    "images_names"
   ]
  },
  {
   "cell_type": "code",
   "execution_count": null,
   "metadata": {},
   "outputs": [],
   "source": []
  }
 ],
 "metadata": {
  "kernelspec": {
   "display_name": "data_viz",
   "language": "python",
   "name": "python3"
  },
  "language_info": {
   "codemirror_mode": {
    "name": "ipython",
    "version": 3
   },
   "file_extension": ".py",
   "mimetype": "text/x-python",
   "name": "python",
   "nbconvert_exporter": "python",
   "pygments_lexer": "ipython3",
   "version": "3.11.3"
  },
  "orig_nbformat": 4
 },
 "nbformat": 4,
 "nbformat_minor": 2
}
